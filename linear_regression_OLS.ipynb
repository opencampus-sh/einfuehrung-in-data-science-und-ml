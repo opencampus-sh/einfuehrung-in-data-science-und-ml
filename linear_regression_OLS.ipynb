{
 "cells": [
  {
   "cell_type": "code",
   "execution_count": 1,
   "metadata": {},
   "outputs": [],
   "source": [
    "import pandas as pd\n",
    "import statsmodels.api as sm\n",
    "import statsmodels.formula.api as smf\n",
    "\n",
    "# Load the dataset\n",
    "url = \"https://raw.githubusercontent.com/opencampus-sh/einfuehrung-in-data-science-und-ml/main/house_pricing_data/house_pricing_train.csv\"\n",
    "house_pricing = pd.read_csv(url)\n",
    "\n"
   ]
  },
  {
   "cell_type": "code",
   "execution_count": 2,
   "metadata": {},
   "outputs": [
    {
     "name": "stdout",
     "output_type": "stream",
     "text": [
      "                            OLS Regression Results                            \n",
      "==============================================================================\n",
      "Dep. Variable:                  price   R-squared:                       0.014\n",
      "Model:                            OLS   Adj. R-squared:                  0.014\n",
      "Method:                 Least Squares   F-statistic:                     49.39\n",
      "Date:                Thu, 23 May 2024   Prob (F-statistic):           5.82e-51\n",
      "Time:                        08:50:41   Log-Likelihood:            -2.4603e+05\n",
      "No. Observations:               17290   AIC:                         4.921e+05\n",
      "Df Residuals:                   17284   BIC:                         4.921e+05\n",
      "Df Model:                           5                                         \n",
      "Covariance Type:            nonrobust                                         \n",
      "=====================================================================================\n",
      "                        coef    std err          t      P>|t|      [0.025      0.975]\n",
      "-------------------------------------------------------------------------------------\n",
      "Intercept          3.261e+05   7.05e+04      4.625      0.000    1.88e+05    4.64e+05\n",
      "C(condition)[T.2] -2.305e+04   7.69e+04     -0.300      0.764   -1.74e+05    1.28e+05\n",
      "C(condition)[T.3]  2.031e+05   7.06e+04      2.878      0.004    6.48e+04    3.41e+05\n",
      "C(condition)[T.4]    1.8e+05   7.07e+04      2.546      0.011    4.14e+04    3.19e+05\n",
      "C(condition)[T.5]  2.762e+05   7.12e+04      3.880      0.000    1.37e+05    4.16e+05\n",
      "sqft_lot15            1.1382      0.103     11.002      0.000       0.935       1.341\n",
      "==============================================================================\n",
      "Omnibus:                    15642.173   Durbin-Watson:                   2.004\n",
      "Prob(Omnibus):                  0.000   Jarque-Bera (JB):          1054915.657\n",
      "Skew:                           4.122   Prob(JB):                         0.00\n",
      "Kurtosis:                      40.368   Cond. No.                     1.69e+06\n",
      "==============================================================================\n",
      "\n",
      "Notes:\n",
      "[1] Standard Errors assume that the covariance matrix of the errors is correctly specified.\n",
      "[2] The condition number is large, 1.69e+06. This might indicate that there are\n",
      "strong multicollinearity or other numerical problems.\n"
     ]
    }
   ],
   "source": [
    "# Fit the linear model\n",
    "mod = smf.ols('price ~ sqft_lot15 + C(condition)', data=house_pricing).fit()\n",
    "\n",
    "# Print the summary\n",
    "print(mod.summary())"
   ]
  }
 ],
 "metadata": {
  "kernelspec": {
   "display_name": "Python 3",
   "language": "python",
   "name": "python3"
  },
  "language_info": {
   "codemirror_mode": {
    "name": "ipython",
    "version": 3
   },
   "file_extension": ".py",
   "mimetype": "text/x-python",
   "name": "python",
   "nbconvert_exporter": "python",
   "pygments_lexer": "ipython3",
   "version": "3.10.13"
  }
 },
 "nbformat": 4,
 "nbformat_minor": 2
}
